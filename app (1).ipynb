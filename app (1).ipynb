{
 "cells": [
  {
   "cell_type": "code",
   "execution_count": 1,
   "id": "797ddd5d",
   "metadata": {},
   "outputs": [
    {
     "name": "stdout",
     "output_type": "stream",
     "text": [
      "Requirement already satisfied: flask in c:\\users\\devis\\anaconda3\\lib\\site-packages (1.1.2)\n",
      "Requirement already satisfied: flask-socketio in c:\\users\\devis\\anaconda3\\lib\\site-packages (5.3.4)\n",
      "Collecting eventlet\n",
      "  Downloading eventlet-0.33.3-py2.py3-none-any.whl (226 kB)\n",
      "Requirement already satisfied: itsdangerous>=0.24 in c:\\users\\devis\\anaconda3\\lib\\site-packages (from flask) (2.0.1)\n",
      "Requirement already satisfied: click>=5.1 in c:\\users\\devis\\anaconda3\\lib\\site-packages (from flask) (8.0.4)\n",
      "Requirement already satisfied: Werkzeug>=0.15 in c:\\users\\devis\\anaconda3\\lib\\site-packages (from flask) (2.0.3)\n",
      "Requirement already satisfied: Jinja2>=2.10.1 in c:\\users\\devis\\anaconda3\\lib\\site-packages (from flask) (2.11.3)\n",
      "Requirement already satisfied: python-socketio>=5.0.2 in c:\\users\\devis\\anaconda3\\lib\\site-packages (from flask-socketio) (5.8.0)\n",
      "Collecting dnspython>=1.15.0\n",
      "  Downloading dnspython-2.3.0-py3-none-any.whl (283 kB)\n",
      "Requirement already satisfied: six>=1.10.0 in c:\\users\\devis\\anaconda3\\lib\\site-packages (from eventlet) (1.16.0)\n",
      "Requirement already satisfied: greenlet>=0.3 in c:\\users\\devis\\anaconda3\\lib\\site-packages (from eventlet) (1.1.1)\n",
      "Requirement already satisfied: colorama in c:\\users\\devis\\anaconda3\\lib\\site-packages (from click>=5.1->flask) (0.4.4)\n",
      "Requirement already satisfied: MarkupSafe>=0.23 in c:\\users\\devis\\anaconda3\\lib\\site-packages (from Jinja2>=2.10.1->flask) (2.0.1)\n",
      "Requirement already satisfied: bidict>=0.21.0 in c:\\users\\devis\\anaconda3\\lib\\site-packages (from python-socketio>=5.0.2->flask-socketio) (0.22.1)\n",
      "Requirement already satisfied: python-engineio>=4.3.0 in c:\\users\\devis\\anaconda3\\lib\\site-packages (from python-socketio>=5.0.2->flask-socketio) (4.4.1)\n",
      "Installing collected packages: dnspython, eventlet\n",
      "Successfully installed dnspython-2.3.0 eventlet-0.33.3\n"
     ]
    }
   ],
   "source": [
    "!pip install flask flask-socketio eventlet"
   ]
  },
  {
   "cell_type": "code",
   "execution_count": null,
   "id": "a0c3114a",
   "metadata": {},
   "outputs": [],
   "source": []
  },
  {
   "cell_type": "code",
   "execution_count": 2,
   "id": "3925395e",
   "metadata": {},
   "outputs": [
    {
     "name": "stderr",
     "output_type": "stream",
     "text": [
      " * Restarting with watchdog (windowsapi)\n"
     ]
    },
    {
     "ename": "SystemExit",
     "evalue": "1",
     "output_type": "error",
     "traceback": [
      "An exception has occurred, use %tb to see the full traceback.\n",
      "\u001b[1;31mSystemExit\u001b[0m\u001b[1;31m:\u001b[0m 1\n"
     ]
    },
    {
     "name": "stderr",
     "output_type": "stream",
     "text": [
      "C:\\Users\\devis\\anaconda3\\lib\\site-packages\\IPython\\core\\interactiveshell.py:3377: UserWarning: To exit: use 'exit', 'quit', or Ctrl-D.\n",
      "  warn(\"To exit: use 'exit', 'quit', or Ctrl-D.\", stacklevel=1)\n"
     ]
    }
   ],
   "source": [
    "\n",
    "from flask import Flask, render_template\n",
    "from IPython.display import display, HTML\n",
    "import time\n",
    "import threading\n",
    "\n",
    "app = Flask(__name__)\n",
    "app.config['DEBUG'] = True\n",
    "\n",
    "@app.route('/')\n",
    "def index():\n",
    "    return render_template('display.html')\n",
    "\n",
    "def run_flask_app():\n",
    "    app.run(threaded=True)\n",
    "\n",
    "if __name__ == '__main__':\n",
    "    display(HTML('''\n",
    "        <!DOCTYPE html>\n",
    "        <html>\n",
    "        <head>\n",
    "          <title>Live Location Tracking</title>\n",
    "        </head>\n",
    "        <body>\n",
    "          <table>\n",
    "            <thead>\n",
    "              <tr>\n",
    "                <th>Iteration</th>\n",
    "                <th>Latitude</th>\n",
    "                <th>Longitude</th>\n",
    "              </tr>\n",
    "            </thead>\n",
    "            <tbody id=\"locationTableBody\">\n",
    "            </tbody>\n",
    "          </table>\n",
    "          <script src=\"https://cdn.socket.io/4.4.1/socket.io.min.js\"></script>\n",
    "\n",
    "          <script>\n",
    "            async function trackLocation() {\n",
    "              const locationTableBody = document.getElementById(\"locationTableBody\");\n",
    "\n",
    "              for (let i = 1; i <= 100; i++) {\n",
    "                const row = document.createElement(\"tr\");\n",
    "                row.innerHTML = `\n",
    "                  <td>${i}</td>\n",
    "                  <td id=\"latitudeCell${i}\">Fetching...</td>\n",
    "                  <td id=\"longitudeCell${i}\">Fetching...</td>\n",
    "                `;\n",
    "\n",
    "                locationTableBody.appendChild(row);\n",
    "\n",
    "                await new Promise(resolve => setTimeout(resolve, 5000));\n",
    "\n",
    "                if (\"geolocation\" in navigator) {\n",
    "                  try {\n",
    "                    const position = await new Promise((resolve, reject) => {\n",
    "                      navigator.geolocation.getCurrentPosition(resolve, reject);\n",
    "                    });\n",
    "\n",
    "                    const latitude = position.coords.latitude;\n",
    "                    const longitude = position.coords.longitude;\n",
    "\n",
    "                    document.getElementById(`latitudeCell${i}`).textContent = latitude;\n",
    "                    document.getElementById(`longitudeCell${i}`).textContent = longitude;\n",
    "                  } catch (error) {\n",
    "                    document.getElementById(`latitudeCell${i}`).textContent = \"Error\";\n",
    "                    document.getElementById(`longitudeCell${i}`).textContent = \"Error\";\n",
    "                    console.log(\"Error occurred. Error code: \" + error.code);\n",
    "                  }\n",
    "                } else {\n",
    "                  document.getElementById(`latitudeCell${i}`).textContent = \"N/A\";\n",
    "                  document.getElementById(`longitudeCell${i}`).textContent = \"N/A\";\n",
    "                  console.log(\"Geolocation is not supported by this browser.\");\n",
    "                }\n",
    "              }\n",
    "            }\n",
    "            function sendLocationDataToOtherFile(latitude, longitude) {\n",
    "              const socket = io();\n",
    "              socket.emit('updateLocation', { latitude, longitude });\n",
    "            }\n",
    "\n",
    "            trackLocation();\n",
    "          </script>\n",
    "        </body>\n",
    "        </html>\n",
    "    '''))\n",
    "\n",
    "    thread = threading.Thread(target=run_flask_app)\n",
    "    thread.start()"
   ]
  },
  {
   "cell_type": "code",
   "execution_count": null,
   "id": "b1da995f",
   "metadata": {},
   "outputs": [],
   "source": []
  }
 ],
 "metadata": {
  "kernelspec": {
   "display_name": "Python 3 (ipykernel)",
   "language": "python",
   "name": "python3"
  },
  "language_info": {
   "codemirror_mode": {
    "name": "ipython",
    "version": 3
   },
   "file_extension": ".py",
   "mimetype": "text/x-python",
   "name": "python",
   "nbconvert_exporter": "python",
   "pygments_lexer": "ipython3",
   "version": "3.9.12"
  }
 },
 "nbformat": 4,
 "nbformat_minor": 5
}
